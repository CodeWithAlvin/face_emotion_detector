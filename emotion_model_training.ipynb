{
  "nbformat": 4,
  "nbformat_minor": 0,
  "metadata": {
    "colab": {
      "name": "emotion_model_training.ipynb",
      "provenance": [],
      "collapsed_sections": [],
      "mount_file_id": "1Ql-W_fgSUq2eVPl4SyU3rHajnBD61dZx",
      "authorship_tag": "ABX9TyPCr+5YmPH9exattbukcwwE",
      "include_colab_link": true
    },
    "kernelspec": {
      "name": "python3",
      "display_name": "Python 3"
    }
  },
  "cells": [
    {
      "cell_type": "markdown",
      "metadata": {
        "id": "view-in-github",
        "colab_type": "text"
      },
      "source": [
        "<a href=\"https://colab.research.google.com/github/CodeWithAlvin/face_emotion_detector_live/blob/main/emotion_model_training.ipynb\" target=\"_parent\"><img src=\"https://colab.research.google.com/assets/colab-badge.svg\" alt=\"Open In Colab\"/></a>"
      ]
    },
    {
      "cell_type": "code",
      "metadata": {
        "id": "ojgdeN13XAfC"
      },
      "source": [
        "from sklearn.svm import SVC\r\n",
        "from sklearn.model_selection import train_test_split"
      ],
      "execution_count": 1,
      "outputs": []
    },
    {
      "cell_type": "code",
      "metadata": {
        "id": "ppVpwUjmM0z1"
      },
      "source": [
        "import pickle"
      ],
      "execution_count": 3,
      "outputs": []
    },
    {
      "cell_type": "code",
      "metadata": {
        "id": "gIRAiZsQXceZ"
      },
      "source": [
        "with open(\"/content/drive/MyDrive/Others/emo_pix.pkl\",'rb') as f:\r\n",
        "  X=pickle.load(f)\r\n",
        "with open(\"/content/drive/MyDrive/Others/emo_val.pkl\",'rb') as f1:\r\n",
        "  y=pickle.load(f1)"
      ],
      "execution_count": 5,
      "outputs": []
    },
    {
      "cell_type": "code",
      "metadata": {
        "id": "EGciGsiEMzBY"
      },
      "source": [
        "emotion_dict = {0: \"Angry\", 1: \"Disgust\", 2: \"Fear\", 3: \"Happy\", 4: \"Sad\", 5: \"Surprise\", 6: \"Neutral\"}"
      ],
      "execution_count": 8,
      "outputs": []
    },
    {
      "cell_type": "code",
      "metadata": {
        "id": "689xrUt_NuJr"
      },
      "source": [
        "X_train,X_test,y_train,y_test=train_test_split(X,y,test_size=0.2,random_state=42)"
      ],
      "execution_count": 9,
      "outputs": []
    },
    {
      "cell_type": "code",
      "metadata": {
        "id": "m9HcJShOOGLe"
      },
      "source": [
        "model=SVC(C=1,kernel=\"poly\",gamma=\"auto\")"
      ],
      "execution_count": 12,
      "outputs": []
    },
    {
      "cell_type": "code",
      "metadata": {
        "id": "Vko7hhxETdmV"
      },
      "source": [
        "model.fit(X_train,y_train)"
      ],
      "execution_count": null,
      "outputs": []
    },
    {
      "cell_type": "code",
      "metadata": {
        "id": "40Wgz6oUPDsV"
      },
      "source": [
        "y_pred=model.predict(X_train)"
      ],
      "execution_count": null,
      "outputs": []
    }
  ]
}