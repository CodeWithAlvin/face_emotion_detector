{
  "nbformat": 4,
  "nbformat_minor": 0,
  "metadata": {
    "colab": {
      "name": "emotion_model_training.ipynb",
      "provenance": [],
      "collapsed_sections": [],
      "toc_visible": true,
      "mount_file_id": "1Ql-W_fgSUq2eVPl4SyU3rHajnBD61dZx",
      "authorship_tag": "ABX9TyNIuJfGwWmqz3O+abDqRxhp",
      "include_colab_link": true
    },
    "kernelspec": {
      "display_name": "Python 3",
      "name": "python3"
    }
  },
  "cells": [
    {
      "cell_type": "markdown",
      "metadata": {
        "id": "view-in-github",
        "colab_type": "text"
      },
      "source": [
        "<a href=\"https://colab.research.google.com/github/CodeWithAlvin/face_emotion_detector_live/blob/main/emotion_model_training.ipynb\" target=\"_parent\"><img src=\"https://colab.research.google.com/assets/colab-badge.svg\" alt=\"Open In Colab\"/></a>"
      ]
    },
    {
      "cell_type": "code",
      "metadata": {
        "id": "ojgdeN13XAfC"
      },
      "source": [
        "from sklearn.model_selection import train_test_split"
      ],
      "execution_count": 88,
      "outputs": []
    },
    {
      "cell_type": "code",
      "metadata": {
        "colab": {
          "base_uri": "https://localhost:8080/"
        },
        "id": "liN5twLahibR",
        "outputId": "72711fd6-06d1-4bcc-e6ba-1f4939932ec1"
      },
      "source": [
        "%pylab inline\r\n",
        "import matplotlib.pyplot as plt\r\n",
        "import matplotlib.image as mpimg"
      ],
      "execution_count": 89,
      "outputs": [
        {
          "output_type": "stream",
          "text": [
            "Populating the interactive namespace from numpy and matplotlib\n"
          ],
          "name": "stdout"
        },
        {
          "output_type": "stream",
          "text": [
            "/usr/local/lib/python3.6/dist-packages/IPython/core/magics/pylab.py:161: UserWarning: pylab import has clobbered these variables: ['f']\n",
            "`%matplotlib` prevents importing * from pylab and numpy\n",
            "  \"\\n`%matplotlib` prevents importing * from pylab and numpy\"\n"
          ],
          "name": "stderr"
        }
      ]
    },
    {
      "cell_type": "code",
      "metadata": {
        "id": "ppVpwUjmM0z1"
      },
      "source": [
        "import pickle"
      ],
      "execution_count": 90,
      "outputs": []
    },
    {
      "cell_type": "code",
      "metadata": {
        "id": "gIRAiZsQXceZ"
      },
      "source": [
        "with open(\"/content/drive/MyDrive/Others/emo_pix.pkl\",'rb') as f:\r\n",
        "  X=pickle.load(f)\r\n",
        "with open(\"/content/drive/MyDrive/Others/emo_val.pkl\",'rb') as f1:\r\n",
        "  y=pickle.load(f1)"
      ],
      "execution_count": 91,
      "outputs": []
    },
    {
      "cell_type": "code",
      "metadata": {
        "id": "689xrUt_NuJr"
      },
      "source": [
        "def split_data(X,y):\r\n",
        "  X_train,X_test,y_train,y_test=train_test_split(X,y,test_size=0.2,random_state=42)"
      ],
      "execution_count": 92,
      "outputs": []
    },
    {
      "cell_type": "code",
      "metadata": {
        "id": "atgOvL-3tcbB"
      },
      "source": [
        "split_data(X,y)"
      ],
      "execution_count": 93,
      "outputs": []
    },
    {
      "cell_type": "markdown",
      "metadata": {
        "id": "PFAkbp5jlF9g"
      },
      "source": [
        "# visualizing data"
      ]
    },
    {
      "cell_type": "code",
      "metadata": {
        "id": "MuGvG_HtkVK6"
      },
      "source": [
        "emotion_dict = {0: \"Angry\", 1: \"Disgust\", 2: \"Fear\", 3: \"Happy\", 4: \"Sad\", 5: \"Surprise\", 6: \"Neutral\"}"
      ],
      "execution_count": 94,
      "outputs": []
    },
    {
      "cell_type": "code",
      "metadata": {
        "id": "78h7uK0vhWA3"
      },
      "source": [
        "def show_feature(i):\r\n",
        "  image=X_train[i].reshape(48,48)\r\n",
        "  imgplot = plt.imshow(image)\r\n",
        "  plt.show()\r\n",
        "  print(emotion_dict[y_train[i]])"
      ],
      "execution_count": 95,
      "outputs": []
    },
    {
      "cell_type": "code",
      "metadata": {
        "colab": {
          "base_uri": "https://localhost:8080/",
          "height": 284
        },
        "id": "YfohE-kxhyeV",
        "outputId": "e4368084-c158-4a6d-edcb-a81f140d897b"
      },
      "source": [
        "show_feature(23)"
      ],
      "execution_count": 96,
      "outputs": [
        {
          "output_type": "display_data",
          "data": {
            "image/png": "[encoded data removed]",
            "text/plain": [
              "<Figure size 432x288 with 1 Axes>"
            ]
          },
          "metadata": {
            "tags": [],
            "needs_background": "light"
          }
        },
        {
          "output_type": "stream",
          "text": [
            "Surprise\n"
          ],
          "name": "stdout"
        }
      ]
    },
    {
      "cell_type": "code",
      "metadata": {
        "id": "MrrMttykoxGE"
      },
      "source": [
        "def show_histo(array):\r\n",
        "  pd.DataFrame(array).hist(bins=20, figsize=(15,15), color='b')\r\n",
        "  plt.show()"
      ],
      "execution_count": 97,
      "outputs": []
    },
    {
      "cell_type": "code",
      "metadata": {
        "colab": {
          "base_uri": "https://localhost:8080/",
          "height": 879
        },
        "id": "WOxepfptsqZu",
        "outputId": "58c4075b-6a4b-4ee4-c785-709c156d0276"
      },
      "source": [
        "show_histo(y)"
      ],
      "execution_count": 98,
      "outputs": [
        {
          "output_type": "display_data",
          "data": {
            "image/png": "[encoded data removed]",
            "text/plain": [
              "<Figure size 1080x1080 with 1 Axes>"
            ]
          },
          "metadata": {
            "tags": [],
            "needs_background": "light"
          }
        }
      ]
    },
    {
      "cell_type": "code",
      "metadata": {
        "id": "-SNR2FQvcsTZ"
      },
      "source": [
        "from sklearn.pipeline import make_pipeline\r\n",
        "from sklearn.preprocessing import StandardScaler\r\n",
        "from sklearn.ensemble import RandomForestClassifier"
      ],
      "execution_count": 99,
      "outputs": []
    },
    {
      "cell_type": "code",
      "metadata": {
        "id": "m9HcJShOOGLe"
      },
      "source": [
        "def create_model(X_train,y_train,*args,**kwargs):\r\n",
        "  model=make_pipeline(*args,**kwargs)\r\n",
        "  model.fit(X_train,y_train)"
      ],
      "execution_count": 100,
      "outputs": []
    },
    {
      "cell_type": "code",
      "metadata": {
        "id": "wbiNaalWuOuG"
      },
      "source": [
        "create_model(X_train,y_train,StandardScaler(),RandomForestClassifier(max_depth=100, random_state=0))"
      ],
      "execution_count": 101,
      "outputs": []
    },
    {
      "cell_type": "code",
      "metadata": {
        "id": "dUccn4vLVGN7"
      },
      "source": [
        "with open(\"/content/drive/MyDrive/Others/model.pkl\",\"wb\") as f:\r\n",
        "  pickle.dump(model,f)"
      ],
      "execution_count": 102,
      "outputs": []
    },
    {
      "cell_type": "code",
      "metadata": {
        "id": "js2iRJX6FDOf"
      },
      "source": [
        "#Checking accuracy"
      ],
      "execution_count": 103,
      "outputs": []
    },
    {
      "cell_type": "code",
      "metadata": {
        "id": "0VXAc6C1FLU8"
      },
      "source": [
        "from sklearn.metrics import f1_score\r\n",
        "from sklearn.metrics import mean_squared_error\r\n",
        "import math"
      ],
      "execution_count": 104,
      "outputs": []
    },
    {
      "cell_type": "code",
      "metadata": {
        "id": "_1foYR7fHHjp"
      },
      "source": [
        "#final testing"
      ],
      "execution_count": 105,
      "outputs": []
    },
    {
      "cell_type": "code",
      "metadata": {
        "id": "rqKwtmhhvXUN"
      },
      "source": [
        "def analyze_model(model,X_test):\r\n",
        "  y_pred=model.predict(X_test)\r\n",
        "  f1=f1_score(y_test, y_pred,average='micro')\r\n",
        "  mse=mean_squared_error(y_test,y_pred)\r\n",
        "  print(f\"f1-score : {f1} rmse : {math.sqrt(mse)}\")"
      ],
      "execution_count": 108,
      "outputs": []
    },
    {
      "cell_type": "code",
      "metadata": {
        "colab": {
          "base_uri": "https://localhost:8080/"
        },
        "id": "gviioaXFwWFN",
        "outputId": "5578b01d-d537-41a3-94ac-e9d30a5a7ede"
      },
      "source": [
        "analyze_model(model,X_test)"
      ],
      "execution_count": 109,
      "outputs": [
        {
          "output_type": "stream",
          "text": [
            "f1-score : 0.4605739760378936 rmse : 2.0421171385000934\n"
          ],
          "name": "stdout"
        }
      ]
    }
  ]
}