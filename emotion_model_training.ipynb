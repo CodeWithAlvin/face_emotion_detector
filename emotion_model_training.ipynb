{
  "nbformat": 4,
  "nbformat_minor": 0,
  "metadata": {
    "colab": {
      "name": "emotion_model_training.ipynb",
      "provenance": [],
      "collapsed_sections": [],
      "include_colab_link": true
    },
    "kernelspec": {
      "display_name": "Python 3",
      "name": "python3"
    }
  },
  "cells": [
    {
      "cell_type": "markdown",
      "metadata": {
        "id": "view-in-github",
        "colab_type": "text"
      },
      "source": [
        "<a href=\"https://colab.research.google.com/github/CodeWithAlvin/face_emotion_detector_live/blob/main/emotion_model_training.ipynb\" target=\"_parent\"><img src=\"https://colab.research.google.com/assets/colab-badge.svg\" alt=\"Open In Colab\"/></a>"
      ]
    },
    {
      "cell_type": "code",
      "metadata": {
        "id": "ojgdeN13XAfC"
      },
      "source": [
        "from sklearn.model_selection import train_test_split"
      ],
      "execution_count": null,
      "outputs": []
    },
    {
      "cell_type": "code",
      "metadata": {
        "id": "liN5twLahibR",
        "colab": {
          "base_uri": "https://localhost:8080/"
        },
        "outputId": "0c129b55-94c3-4548-f7b2-1c4251097372"
      },
      "source": [
        "%pylab inline\n",
        "import matplotlib.pyplot as plt\n",
        "import matplotlib.image as mpimg\n",
        "import pandas as pd"
      ],
      "execution_count": null,
      "outputs": [
        {
          "output_type": "stream",
          "text": [
            "Populating the interactive namespace from numpy and matplotlib\n"
          ],
          "name": "stdout"
        }
      ]
    },
    {
      "cell_type": "code",
      "metadata": {
        "id": "ppVpwUjmM0z1"
      },
      "source": [
        "import pickle"
      ],
      "execution_count": null,
      "outputs": []
    },
    {
      "cell_type": "code",
      "metadata": {
        "id": "gIRAiZsQXceZ"
      },
      "source": [
        "with open(\"/content/drive/MyDrive/Others/emo_pix.pkl\",'rb') as f:\n",
        "  X=pickle.load(f)\n",
        "with open(\"/content/drive/MyDrive/Others/emo_val.pkl\",'rb') as f1:\n",
        "  y=pickle.load(f1)"
      ],
      "execution_count": null,
      "outputs": []
    },
    {
      "cell_type": "code",
      "metadata": {
        "id": "689xrUt_NuJr"
      },
      "source": [
        "X_train,X_test,y_train,y_test=train_test_split(X,y,test_size=0.2,random_state=42)"
      ],
      "execution_count": null,
      "outputs": []
    },
    {
      "cell_type": "markdown",
      "metadata": {
        "id": "PFAkbp5jlF9g"
      },
      "source": [
        "# visualizing data"
      ]
    },
    {
      "cell_type": "code",
      "metadata": {
        "id": "MuGvG_HtkVK6"
      },
      "source": [
        "emotion_dict = {0: \"Angry\", 1: \"Disgust\", 2: \"Fear\", 3: \"Happy\", 4: \"Sad\", 5: \"Surprise\", 6: \"Neutral\"}"
      ],
      "execution_count": null,
      "outputs": []
    },
    {
      "cell_type": "code",
      "metadata": {
        "id": "78h7uK0vhWA3"
      },
      "source": [
        "def show_feature(X,y):\n",
        "  image=X.reshape(48,48)\n",
        "  imgplot = plt.imshow(image)\n",
        "  plt.show()\n",
        "  print(emotion_dict[y])"
      ],
      "execution_count": null,
      "outputs": []
    },
    {
      "cell_type": "code",
      "metadata": {
        "id": "YfohE-kxhyeV",
        "colab": {
          "base_uri": "https://localhost:8080/",
          "height": 284
        },
        "outputId": "716b0b24-8e05-465f-b890-ae483c2dcf75"
      },
      "source": [
        "show_feature(X_train[128],y_train[128])"
      ],
      "execution_count": null,
      "outputs": [
        {
          "output_type": "display_data",
          "data": {
            "image/png": "[encoded data removed]",
            "text/plain": [
              "<Figure size 432x288 with 1 Axes>"
            ]
          },
          "metadata": {
            "tags": [],
            "needs_background": "light"
          }
        },
        {
          "output_type": "stream",
          "text": [
            "Happy\n"
          ],
          "name": "stdout"
        }
      ]
    },
    {
      "cell_type": "code",
      "metadata": {
        "colab": {
          "base_uri": "https://localhost:8080/"
        },
        "id": "qoXwQ20LNCE2",
        "outputId": "224d48d2-9678-44de-fb5b-6de5708ac72c"
      },
      "source": [
        "from google.colab import drive\n",
        "drive.mount('/content/drive')"
      ],
      "execution_count": null,
      "outputs": [
        {
          "output_type": "stream",
          "text": [
            "Drive already mounted at /content/drive; to attempt to forcibly remount, call drive.mount(\"/content/drive\", force_remount=True).\n"
          ],
          "name": "stdout"
        }
      ]
    },
    {
      "cell_type": "code",
      "metadata": {
        "id": "MrrMttykoxGE"
      },
      "source": [
        "def show_histo(array):\n",
        "  pd.DataFrame(array).hist(bins=20, figsize=(15,15), color='b')\n",
        "  plt.show()"
      ],
      "execution_count": null,
      "outputs": []
    },
    {
      "cell_type": "code",
      "metadata": {
        "id": "WOxepfptsqZu",
        "colab": {
          "base_uri": "https://localhost:8080/",
          "height": 826
        },
        "outputId": "e1953965-ce5d-4d93-9608-edb394d0ab8b"
      },
      "source": [
        "show_histo(y)"
      ],
      "execution_count": null,
      "outputs": [
        {
          "output_type": "display_data",
          "data": {
            "image/png": "[encoded data removed]",
            "text/plain": [
              "<Figure size 1080x1080 with 1 Axes>"
            ]
          },
          "metadata": {
            "tags": [],
            "needs_background": "light"
          }
        }
      ]
    },
    {
      "cell_type": "code",
      "metadata": {
        "id": "-SNR2FQvcsTZ"
      },
      "source": [
        "from sklearn.pipeline import make_pipeline\n",
        "from sklearn.preprocessing import StandardScaler\n",
        "from sklearn.ensemble import RandomForestClassifier"
      ],
      "execution_count": null,
      "outputs": []
    },
    {
      "cell_type": "code",
      "metadata": {
        "id": "m9HcJShOOGLe"
      },
      "source": [
        "def create_model(*args,**kwargs):\n",
        "  pipe=make_pipeline(*args,**kwargs)\n",
        "  return pipe"
      ],
      "execution_count": null,
      "outputs": []
    },
    {
      "cell_type": "code",
      "metadata": {
        "id": "wbiNaalWuOuG"
      },
      "source": [
        "pipeline=create_model(StandardScaler())"
      ],
      "execution_count": null,
      "outputs": []
    },
    {
      "cell_type": "code",
      "metadata": {
        "id": "epSrIg9HsRFX"
      },
      "source": [
        "prepared_data=pipeline.fit_transform(X_train)"
      ],
      "execution_count": null,
      "outputs": []
    },
    {
      "cell_type": "code",
      "metadata": {
        "id": "sRW16LoCsxrs"
      },
      "source": [
        "model=RandomForestClassifier(bootstrap=True, ccp_alpha=0.0, class_weight=None,\n",
        "                        criterion='gini', max_depth=None, max_features='auto',\n",
        "                        max_leaf_nodes=None, max_samples=None,\n",
        "                        min_impurity_decrease=0.0, min_impurity_split=None,\n",
        "                        min_samples_leaf=1, min_samples_split=2,\n",
        "                        min_weight_fraction_leaf=0.0, n_estimators=100,\n",
        "                        n_jobs=-1, oob_score=False, random_state=None, verbose=0,\n",
        "                        warm_start=False)"
      ],
      "execution_count": null,
      "outputs": []
    },
    {
      "cell_type": "code",
      "metadata": {
        "id": "5zE9jbZ7s1un",
        "colab": {
          "base_uri": "https://localhost:8080/"
        },
        "outputId": "7719e8e6-e1b2-4b93-f513-51cd8319da4b"
      },
      "source": [
        "model.fit(X_train,y_train)"
      ],
      "execution_count": null,
      "outputs": [
        {
          "output_type": "execute_result",
          "data": {
            "text/plain": [
              "RandomForestClassifier(bootstrap=False, ccp_alpha=0.0, class_weight=None,\n",
              "                       criterion='gini', max_depth=100, max_features='auto',\n",
              "                       max_leaf_nodes=None, max_samples=None,\n",
              "                       min_impurity_decrease=0.0, min_impurity_split=None,\n",
              "                       min_samples_leaf=1, min_samples_split=2,\n",
              "                       min_weight_fraction_leaf=0.0, n_estimators=100,\n",
              "                       n_jobs=-1, oob_score=False, random_state=None, verbose=0,\n",
              "                       warm_start=False)"
            ]
          },
          "metadata": {
            "tags": []
          },
          "execution_count": 52
        }
      ]
    },
    {
      "cell_type": "code",
      "metadata": {
        "id": "fch51JU91BnY"
      },
      "source": [
        "with open(\"/content/drive/MyDrive/Others/model_random.pkl\",\"wb\") as f:\n",
        "  pickle.dump(model,f)"
      ],
      "execution_count": null,
      "outputs": []
    },
    {
      "cell_type": "code",
      "metadata": {
        "id": "js2iRJX6FDOf"
      },
      "source": [
        "#Checking accuracy"
      ],
      "execution_count": null,
      "outputs": []
    },
    {
      "cell_type": "code",
      "metadata": {
        "id": "0VXAc6C1FLU8"
      },
      "source": [
        "from sklearn.metrics import f1_score\n",
        "from sklearn.metrics import precision_score,recall_score\n",
        "from sklearn.model_selection import cross_val_predict"
      ],
      "execution_count": null,
      "outputs": []
    },
    {
      "cell_type": "code",
      "metadata": {
        "id": "_1foYR7fHHjp"
      },
      "source": [
        "#final testing"
      ],
      "execution_count": null,
      "outputs": []
    },
    {
      "cell_type": "code",
      "metadata": {
        "id": "rqKwtmhhvXUN"
      },
      "source": [
        "def analyze_model(y_orignal,y_pred,):\n",
        "  f1=f1_score(y_orignal, y_pred,average='micro')\n",
        "  precision=precision_score(y_orignal,y_pred,average='micro')\n",
        "  recall=recall_score(y_orignal,y_pred,average='micro')\n",
        "  print(f\"f1-score : {f1}\\nprecision : {precision}\\nrecall : {recall}\")"
      ],
      "execution_count": null,
      "outputs": []
    },
    {
      "cell_type": "markdown",
      "metadata": {
        "id": "Ctj8Zzylddig"
      },
      "source": [
        "# on training set"
      ]
    },
    {
      "cell_type": "code",
      "metadata": {
        "id": "-ZZNFJdQtUnB"
      },
      "source": [
        "y_pred_train=model.predict(X_train)"
      ],
      "execution_count": null,
      "outputs": []
    },
    {
      "cell_type": "code",
      "metadata": {
        "id": "H7A-ohdeXCNU",
        "colab": {
          "base_uri": "https://localhost:8080/"
        },
        "outputId": "a754af3f-8fd1-45d3-96e6-9f278c6e3e72"
      },
      "source": [
        "analyze_model(y_train,y_pred_train)"
      ],
      "execution_count": null,
      "outputs": [
        {
          "output_type": "stream",
          "text": [
            "f1-score : 0.9984325472848236\n",
            "precision : 0.9984325472848236\n",
            "recall : 0.9984325472848236\n"
          ],
          "name": "stdout"
        }
      ]
    },
    {
      "cell_type": "markdown",
      "metadata": {
        "id": "OhhBUfElbhtu"
      },
      "source": [
        "# on Test Set"
      ]
    },
    {
      "cell_type": "code",
      "metadata": {
        "id": "8VFbriGXbmWg"
      },
      "source": [
        "y_pred_train=model.predict(X_test)"
      ],
      "execution_count": null,
      "outputs": []
    },
    {
      "cell_type": "code",
      "metadata": {
        "id": "QU0rbxgPbs3q",
        "colab": {
          "base_uri": "https://localhost:8080/"
        },
        "outputId": "2a4c84c0-f550-49ab-a2f9-a37c5f4662f3"
      },
      "source": [
        "analyze_model(y_test,y_pred_train)"
      ],
      "execution_count": null,
      "outputs": [
        {
          "output_type": "stream",
          "text": [
            "f1-score : 0.4575090554471998\n",
            "precision : 0.4575090554471998\n",
            "recall : 0.4575090554471998\n"
          ],
          "name": "stdout"
        }
      ]
    }
  ]
}