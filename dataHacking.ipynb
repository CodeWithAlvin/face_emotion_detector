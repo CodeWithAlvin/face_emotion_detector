{
  "nbformat": 4,
  "nbformat_minor": 0,
  "metadata": {
    "colab": {
      "name": "dataHacking.ipynb",
      "provenance": [],
      "collapsed_sections": [],
      "toc_visible": true
    },
    "kernelspec": {
      "display_name": "Python 3",
      "name": "python3"
    }
  },
  "cells": [
    {
      "cell_type": "code",
      "metadata": {
        "colab": {
          "base_uri": "https://localhost:8080/"
        },
        "id": "FQkF0zbrMxMg",
        "outputId": "981bc33c-e65b-4d2a-bbb2-e2503830874c"
      },
      "source": [
        "from google.colab import drive\r\n",
        "drive.mount('/content/drive')"
      ],
      "execution_count": 1,
      "outputs": [
        {
          "output_type": "stream",
          "text": [
            "Drive already mounted at /content/drive; to attempt to forcibly remount, call drive.mount(\"/content/drive\", force_remount=True).\n"
          ],
          "name": "stdout"
        }
      ]
    },
    {
      "cell_type": "code",
      "metadata": {
        "id": "-TPp-gTk1kTO"
      },
      "source": [
        "import numpy as np\r\n",
        "import pandas as pd"
      ],
      "execution_count": 33,
      "outputs": []
    },
    {
      "cell_type": "code",
      "metadata": {
        "id": "PUnb__j41t4b"
      },
      "source": [
        "df=pd.read_csv(\"/content/fer2013.csv\")"
      ],
      "execution_count": 8,
      "outputs": []
    },
    {
      "cell_type": "code",
      "metadata": {
        "id": "MTZ_A2cj2RsP"
      },
      "source": [
        "pix=df[\"pixels\"].to_numpy()"
      ],
      "execution_count": 10,
      "outputs": []
    },
    {
      "cell_type": "code",
      "metadata": {
        "id": "xf_Ad9L3SW5R"
      },
      "source": [
        "def manupulate(x):\r\n",
        "  return list(map(int,str.split(x)))"
      ],
      "execution_count": 22,
      "outputs": []
    },
    {
      "cell_type": "code",
      "metadata": {
        "id": "1ulIJ90aTKgL"
      },
      "source": [
        "new2=np.array(list(map(manupulate,pix)))"
      ],
      "execution_count": 26,
      "outputs": []
    },
    {
      "cell_type": "code",
      "metadata": {
        "id": "2HwiyF3bTrs7"
      },
      "source": [
        "import pickle"
      ],
      "execution_count": 30,
      "outputs": []
    },
    {
      "cell_type": "code",
      "metadata": {
        "id": "Xm9G-qmeUREW"
      },
      "source": [
        "with open(\"/content/emo_pix.pkl\",\"wb\") as f:\r\n",
        "  pickle.dump(new2,f)"
      ],
      "execution_count": 34,
      "outputs": []
    },
    {
      "cell_type": "code",
      "metadata": {
        "id": "0LBCX5XMVbb3"
      },
      "source": [
        "with open(\"/content/emo_val.pkl\",\"wb\") as f:\r\n",
        "  pickle.dump(df[\"emotion\"].to_numpy(),f)"
      ],
      "execution_count": 38,
      "outputs": []
    }
  ]
}